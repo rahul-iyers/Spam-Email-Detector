{
 "cells": [
  {
   "cell_type": "code",
   "execution_count": 1,
   "metadata": {},
   "outputs": [],
   "source": [
    "from collections import defaultdict\n",
    "import re\n",
    "import pandas as pd"
   ]
  },
  {
   "cell_type": "code",
   "execution_count": 3,
   "metadata": {},
   "outputs": [],
   "source": [
    "# DATA PREPROCESSING\n",
    "\n",
    "df = pd.read_csv(\"emails.csv\")\n",
    "df['text'] = df['text'].str.partition(' ')[2]"
   ]
  },
  {
   "cell_type": "code",
   "execution_count": 4,
   "metadata": {},
   "outputs": [],
   "source": [
    "# CREATING WORD MAP COUNTS\n",
    "spamWordMap = defaultdict(int)\n",
    "normalWordMap = defaultdict(int)\n",
    "\n",
    "for rowIndex, email in enumerate(df['text']):\n",
    "    words = email.split()\n",
    "    filtered_words = [word for word in words if re.match(r'^[a-zA-Z]+$', word)]\n",
    "    filtered_words = [word.lower() for word in filtered_words]\n",
    "    if df.loc[rowIndex, 'spam'] == 1:\n",
    "        for word in filtered_words:\n",
    "            spamWordMap[word]+=1\n",
    "    else:\n",
    "        for word in filtered_words:\n",
    "            normalWordMap[word]+=1\n",
    "\n",
    "sizeSpamWordMap = len(spamWordMap)\n",
    "sizeNormalWordMap = len(normalWordMap)"
   ]
  },
  {
   "cell_type": "code",
   "execution_count": 5,
   "metadata": {},
   "outputs": [],
   "source": [
    "def spamDetection(text):\n",
    "    inputTextWordMap = defaultdict(int)\n",
    "    words = text.split()\n",
    "    filtered_words = [word for word in words if re.match(r'^[a-zA-Z]+$', word)]\n",
    "    filtered_words = [word.lower() for word in filtered_words]\n",
    "    # inputLength = len(filtered_words)\n",
    "    for word in filtered_words:\n",
    "        inputTextWordMap[word]+=1\n",
    "    \n",
    "    normalEmailProbability = 1\n",
    "    for word in inputTextWordMap:\n",
    "        # wordCount = normalWordMap[word]\n",
    "        if normalWordMap[word] == 0:\n",
    "            normalWordMap[word] = 1\n",
    "        normalEmailProbability *= normalWordMap[word] / sizeNormalWordMap\n",
    "    \n",
    "\n",
    "    spamEmailProbability = 1\n",
    "    for word in inputTextWordMap:\n",
    "        # wordCount = spamWordMap[word]\n",
    "        if spamWordMap[word] == 0:\n",
    "            spamWordMap[word] = 1\n",
    "        spamEmailProbability *= spamWordMap[word] / sizeSpamWordMap\n",
    "    \n",
    "    # normalMessage = \"This email does not appear to be spam!\"\n",
    "    # spamMessage = \"This email appears to be spam!\"\n",
    "\n",
    "    print(\"NORMAL PROB: \", normalEmailProbability)\n",
    "    print(\"SPAM PROB: \", spamEmailProbability)\n",
    "\n",
    "    percentage = spamEmailProbability / (spamEmailProbability + normalEmailProbability) * 100\n",
    "    \n",
    "    return f\"There is a {round(percentage)}% chance that this is a spam email.\"\n",
    "\n",
    "\n",
    "    "
   ]
  },
  {
   "cell_type": "code",
   "execution_count": 6,
   "metadata": {},
   "outputs": [
    {
     "name": "stdout",
     "output_type": "stream",
     "text": [
      "NORMAL PROB:  0.006978856954079947\n",
      "SPAM PROB:  0.002141079798622765\n",
      "There is a 23% chance that this is a spam email.\n"
     ]
    }
   ],
   "source": [
    "text = \"Example text.\"\n",
    "print(spamDetection(text))"
   ]
  }
 ],
 "metadata": {
  "kernelspec": {
   "display_name": ".venv",
   "language": "python",
   "name": "python3"
  },
  "language_info": {
   "codemirror_mode": {
    "name": "ipython",
    "version": 3
   },
   "file_extension": ".py",
   "mimetype": "text/x-python",
   "name": "python",
   "nbconvert_exporter": "python",
   "pygments_lexer": "ipython3",
   "version": "3.10.6"
  }
 },
 "nbformat": 4,
 "nbformat_minor": 2
}
